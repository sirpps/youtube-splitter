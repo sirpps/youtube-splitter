{
  "cells": [
    {
      "cell_type": "markdown",
      "metadata": {
        "id": "view-in-github",
        "colab_type": "text"
      },
      "source": [
        "<a href=\"https://colab.research.google.com/github/sirpps/youtube-splitter/blob/main/split_audio.ipynb\" target=\"_parent\"><img src=\"https://colab.research.google.com/assets/colab-badge.svg\" alt=\"Open In Colab\"/></a>"
      ]
    },
    {
      "cell_type": "markdown",
      "metadata": {
        "id": "v5Y-k0EGTMQv"
      },
      "source": [
        "#Youtube audio Splitter\n",
        "`En:` An code to extract audio from long youtube video or livestream easly, requeriment Pixeldrain api key, tap  [here](https://pixeldrain.com/user/api_keys)\n",
        "\n",
        "`Id:` Sebuah kode untuk mengekstrak audio dari video panjang youtube secara mudah, bahan yang diperlukan adalah Pixeldrain api key, klik [disini](https://pixeldrain.com/user/api_keys)"
      ]
    },
    {
      "cell_type": "code",
      "execution_count": null,
      "metadata": {
        "cellView": "form",
        "id": "jNDnL1MJseZT"
      },
      "outputs": [],
      "source": [
        "#@title Install requirements\n",
        "from IPython.display import clear_output as cls\n",
        "import os\n",
        "!pip install yt-dlp\n",
        "!pip install requests\n",
        "cls()\n",
        "print(\"[installer] yt-dlp version:\", os.popen(\"yt-dlp --version\").read().strip())\n",
        "print(\"[installer] yt-dlp has been installed\")"
      ]
    },
    {
      "cell_type": "code",
      "execution_count": null,
      "metadata": {
        "id": "02cd-fCPSy91",
        "cellView": "form"
      },
      "outputs": [],
      "source": [
        "#@title Setup\n",
        "#====================Making Path============\n",
        "#@markdown ---\n",
        "#@markdown `En:` Enter any youtube url (not yt short, cuz this function to trim long youtube vid)\n",
        "\n",
        "#@markdown `Id:` Masukan link youtube (bukan yt short, karena kegunaan kode ini untuk memotong video panjang youtube)\n",
        "youtube_url = \"\" #@param{type:\"string\"}\n",
        "audio_format = \"wav\" #@param[\"mp3\",\"wav\",\"opus\",\"aac\"]\n",
        "#@markdown ---\n",
        "#@markdown `En:` Input with format `hh:mm:ss` if the video under 1 hour just put 00 in the hour selection\n",
        "\n",
        "#@markdown `Id:` Masukan dengan format `jj:mm:dd` jika video kurang dari 1 jam isi pada bagian jj 00\n",
        "\n",
        "#@markdown `En:` Note: h is hour, m is minute, s is second\n",
        "\n",
        "#@markdown `Id:` Catatan: j itu jam, m itu menit, d itu detik\n",
        "start_time = \"00:00:00\" #@param{type:\"string\"}\n",
        "end_time = \"00:00:00\" #@param{type:\"string\"}\n",
        "#@markdown ---\n",
        "#@markdown Enter [pixeldrain](https://pixeldrain.com/user/api_keys) api key\n",
        "pixeldrain_apikey = \"\" #@param{type:\"string\"}\n",
        "print(\"[info] setup done\")"
      ]
    },
    {
      "cell_type": "code",
      "execution_count": null,
      "metadata": {
        "id": "O2QIcMVDdooV",
        "cellView": "form"
      },
      "outputs": [],
      "source": [
        "#@title Downloading and extract audio\n",
        "print(\"[youtube] Downloading yt audio\")\n",
        "!yt-dlp -q --progress -f bestaudio --prefer-ffmpeg -x --audio-format {audio_format} {youtube_url}\n",
        "print(\"[youtube] Downloading done\")\n",
        "print(\"[youtube] Renaming file\")\n",
        "!mv *.{audio_format} aud_raw.{audio_format}\n",
        "print(\"[youtube] Done All\")"
      ]
    },
    {
      "cell_type": "code",
      "execution_count": null,
      "metadata": {
        "id": "Kr-WXj62qPnB",
        "cellView": "form"
      },
      "outputs": [],
      "source": [
        "#@title Triming the audio\n",
        "print(\"[Trimer] Starting\")\n",
        "!ffmpeg -i *.{audio_format} -ss {start_time} -to {end_time} -c copy aud_out.{audio_format}\n",
        "cls()\n",
        "print(\"[Trimer] Done\")"
      ]
    },
    {
      "cell_type": "code",
      "source": [
        "#@title Renaming audio file\n",
        "import subprocess\n",
        "import json\n",
        "\n",
        "vidtitel = subprocess.run(\n",
        "    ['yt-dlp', '--dump-json', youtube_url],\n",
        "    capture_output=True,\n",
        "    text=True\n",
        ")\n",
        "try:\n",
        "    titellama = json.loads(vidtitel.stdout)['title']\n",
        "    titel = titellama.lower().replace(\" \", \"-\")\n",
        "    titelbaru = f'{titel}.{audio_format}'\n",
        "    !mv aud_out.{audio_format} {titelbaru}\n",
        "except json.JSONDecodeError:\n",
        "        print(\"An Error Occurred\")"
      ],
      "metadata": {
        "cellView": "form",
        "id": "obYtSTw6Tdy3"
      },
      "execution_count": 28,
      "outputs": []
    },
    {
      "cell_type": "code",
      "execution_count": null,
      "metadata": {
        "id": "byhZHbArBMxG",
        "cellView": "form"
      },
      "outputs": [],
      "source": [
        "#@title Uploading to [Pixeldrain](https://pixeldrain.com/)\n",
        "\n",
        "upload = subprocess.run(\n",
        "    ['curl', '-T', titelbaru, '-u', ':'+pixeldrain_apikey, 'https://pixeldrain.com/api/file/'],\n",
        "    capture_output=True,\n",
        "    text=True\n",
        ")\n",
        "#====================Debug============\n",
        "#print(\"Output from curl:\", upload.stdout)\n",
        "#print(\"Error from curl:\", upload.stderr)\n",
        "#====================Making Path============\n",
        "try:\n",
        "    file_result_id = json.loads(upload.stdout)['id']\n",
        "    print(\"[uploader] Upload done\")\n",
        "    print(\"file link: https://pixeldrain.com/u/\" + file_result_id)\n",
        "#    print(\"ID file:\", file_result_id)\n",
        "except json.JSONDecodeError:\n",
        "    print(\"An error occured\")"
      ]
    }
  ],
  "metadata": {
    "colab": {
      "provenance": [],
      "include_colab_link": true
    },
    "kernelspec": {
      "display_name": "Python 3",
      "name": "python3"
    }
  },
  "nbformat": 4,
  "nbformat_minor": 0
}
