{
  "cells": [
    {
      "cell_type": "markdown",
      "metadata": {
        "id": "view-in-github",
        "colab_type": "text"
      },
      "source": [
        "<a href=\"https://colab.research.google.com/github/sirpps/youtube-splitter/blob/main/split_audio.ipynb\" target=\"_parent\"><img src=\"https://colab.research.google.com/assets/colab-badge.svg\" alt=\"Open In Colab\"/></a>"
      ]
    },
    {
      "cell_type": "markdown",
      "metadata": {
        "id": "v5Y-k0EGTMQv"
      },
      "source": [
        "#Youtube audio Splitter\n",
        "`En:` An code to extract audio from long youtube video or livestream easly, requeriment Pixeldrain api key, tap  [here](https://pixeldrain.com/user/api_keys)<br>`Id:` Sebuah kode untuk mengekstrak audio dari video panjang youtube secara mudah, bahan yang diperlukan adalah Pixeldrain api key, klik [disini](https://pixeldrain.com/user/api_keys)"
      ]
    },
    {
      "cell_type": "code",
      "execution_count": null,
      "metadata": {
        "cellView": "form",
        "id": "jNDnL1MJseZT"
      },
      "outputs": [],
      "source": [
        "#@title Install requirements\n",
        "from IPython.display import clear_output as cls\n",
        "import os\n",
        "#============Colour=============\n",
        "cyellow = \"\\033[33m\"\n",
        "cred = \"\\033[31m\"\n",
        "creset = \"\\033[0m\"\n",
        "cbold = \"\\033[1m\"\n",
        "citalic = \"\\033[3m\"\n",
        "!rm -rf *\n",
        "!pip install yt-dlp\n",
        "!pip install requests\n",
        "cls()\n",
        "print(cyellow+\"[installer] \"+creset+\"yt-dlp version:\", os.popen(\"yt-dlp --version\").read().strip())\n",
        "print(cyellow+\"[installer] \"+creset+\"yt-dlp has been installed\")"
      ]
    },
    {
      "cell_type": "code",
      "source": [
        "#@title Setup\n",
        "#===========Main code===========\n",
        "youtube_url = \"\" #@param{type:\"string\"}\n",
        "audio_format = \"wav\" #@param[\"mp3\",\"wav\",\"opus\",\"aac\"]\n",
        "#@markdown ---\n",
        "#@markdown `En:` Input with format `hh:mm:ss` if the video under 1 hour just put 00 in the hour selection<br>Note: h is hour, m is minute, s is second<br>\n",
        "#@markdown `Id:` Masukan dengan format `jj:mm:dd` jika video kurang dari 1 jam isi pada bagian jj 00<br>Catatan: j itu jam, m itu menit, d itu detik\n",
        "#==========Making Path==========\n",
        "start_time_h = \"00\" #@param [\"00\", \"01\", \"02\", \"03\", \"04\", \"05\", \"06\", \"07\", \"08\", \"09\", \"10\", \"11\", \"12\", \"13\", \"14\", \"15\", \"16\", \"17\", \"18\", \"19\", \"20\", \"21\", \"22\", \"23\", \"24\"]\n",
        "start_time_m = \"00\" #@param [\"00\", \"01\", \"02\", \"03\", \"04\", \"05\", \"06\", \"07\", \"08\", \"09\", \"10\", \"11\", \"12\", \"13\", \"14\", \"15\", \"16\", \"17\", \"18\", \"19\", \"20\", \"21\", \"22\", \"23\", \"24\", \"25\", \"26\", \"27\", \"28\", \"29\", \"30\", \"31\", \"32\", \"33\", \"34\", \"35\", \"36\", \"37\", \"38\", \"39\", \"40\", \"41\", \"42\", \"43\", \"44\", \"45\", \"46\", \"47\", \"48\", \"49\", \"50\", \"51\", \"52\", \"53\", \"54\", \"55\", \"56\", \"57\", \"58\", \"59\"]\n",
        "start_time_s = \"00\" #@param [\"00\", \"01\", \"02\", \"03\", \"04\", \"05\", \"06\", \"07\", \"08\", \"09\", \"10\", \"11\", \"12\", \"13\", \"14\", \"15\", \"16\", \"17\", \"18\", \"19\", \"20\", \"21\", \"22\", \"23\", \"24\", \"25\", \"26\", \"27\", \"28\", \"29\", \"30\", \"31\", \"32\", \"33\", \"34\", \"35\", \"36\", \"37\", \"38\", \"39\", \"40\", \"41\", \"42\", \"43\", \"44\", \"45\", \"46\", \"47\", \"48\", \"49\", \"50\", \"51\", \"52\", \"53\", \"54\", \"55\", \"56\", \"57\", \"58\", \"59\"]\n",
        "#@markdown ---\n",
        "end_time_h = \"00\" #@param [\"00\", \"01\", \"02\", \"03\", \"04\", \"05\", \"06\", \"07\", \"08\", \"09\", \"10\", \"11\", \"12\", \"13\", \"14\", \"15\", \"16\", \"17\", \"18\", \"19\", \"20\", \"21\", \"22\", \"23\", \"24\"]\n",
        "end_time_m = \"00\" #@param [\"00\", \"01\", \"02\", \"03\", \"04\", \"05\", \"06\", \"07\", \"08\", \"09\", \"10\", \"11\", \"12\", \"13\", \"14\", \"15\", \"16\", \"17\", \"18\", \"19\", \"20\", \"21\", \"22\", \"23\", \"24\", \"25\", \"26\", \"27\", \"28\", \"29\", \"30\", \"31\", \"32\", \"33\", \"34\", \"35\", \"36\", \"37\", \"38\", \"39\", \"40\", \"41\", \"42\", \"43\", \"44\", \"45\", \"46\", \"47\", \"48\", \"49\", \"50\", \"51\", \"52\", \"53\", \"54\", \"55\", \"56\", \"57\", \"58\", \"59\"]\n",
        "end_time_s = \"00\" #@param [\"00\", \"01\", \"02\", \"03\", \"04\", \"05\", \"06\", \"07\", \"08\", \"09\", \"10\", \"11\", \"12\", \"13\", \"14\", \"15\", \"16\", \"17\", \"18\", \"19\", \"20\", \"21\", \"22\", \"23\", \"24\", \"25\", \"26\", \"27\", \"28\", \"29\", \"30\", \"31\", \"32\", \"33\", \"34\", \"35\", \"36\", \"37\", \"38\", \"39\", \"40\", \"41\", \"42\", \"43\", \"44\", \"45\", \"46\", \"47\", \"48\", \"49\", \"50\", \"51\", \"52\", \"53\", \"54\", \"55\", \"56\", \"57\", \"58\", \"59\"]\n",
        "#@markdown ---\n",
        "#@markdown Enter [pixeldrain](https://pixeldrain.com/user/api_keys) api key\n",
        "pixeldrain_apikey = \"\" #@param{type:\"string\"}\n",
        "start_time = f\"{start_time_h}:{start_time_m}:{start_time_s}\"\n",
        "end_time = f\"{end_time_h}:{end_time_m}:{end_time_s}\""
      ],
      "metadata": {
        "id": "zURZqieTnIhN",
        "cellView": "form"
      },
      "execution_count": 2,
      "outputs": []
    },
    {
      "cell_type": "code",
      "execution_count": null,
      "metadata": {
        "id": "O2QIcMVDdooV",
        "cellView": "form"
      },
      "outputs": [],
      "source": [
        "#@title Downloading and extract audio\n",
        "print(\"[youtube] Downloading yt audio\")\n",
        "!yt-dlp -q --progress -f bestaudio --prefer-ffmpeg -x --audio-format {audio_format} {youtube_url}\n",
        "print(\"[youtube] Downloading done\")\n",
        "print(\"[youtube] Renaming file\")\n",
        "!mv *.{audio_format} aud_raw.{audio_format}\n",
        "print(\"[youtube] Done All\")"
      ]
    },
    {
      "cell_type": "code",
      "execution_count": null,
      "metadata": {
        "id": "Kr-WXj62qPnB",
        "cellView": "form"
      },
      "outputs": [],
      "source": [
        "#@title Triming the audio\n",
        "if start_time != \"00:00:00\" and end_time == \"00:00:00\":\n",
        "    print(cyellow + \"[log] \" + creset + \"en: end time is zero, please fill the form\")\n",
        "    print(cyellow + \"[log] \" + creset + \"id:\" + citalic + cbold + \" end timenya di isi goblok, lu mau motong apa endnya nol\" + creset)\n",
        "elif start_time == \"00:00:00\" and end_time == \"00:00:00\":\n",
        "    print(cyellow + \"[log] \" + creset + \"en: start and end time is zero, downloading full vid\")\n",
        "    print(cyellow + \"[log] \" + creset + \"id:\" + citalic + cbold + \" waktu start dan end adalah 0, mengunduh semua\")\n",
        "    !mv *.{audio_format} aud_out.{audio_format}\n",
        "else:\n",
        "    print(cyellow + \"[log] \" + creset + \"Starting\")\n",
        "    !ffmpeg -i *.{audio_format} -ss {start_time} -to {end_time} -c copy aud_out.{audio_format}\n",
        "    cls()\n",
        "    print(cyellow + \"[trimer] \" + creset + \"Done\")"
      ]
    },
    {
      "cell_type": "code",
      "source": [
        "#@title Renaming audio file\n",
        "import subprocess\n",
        "import json\n",
        "\n",
        "vidtitel = subprocess.run(\n",
        "    ['yt-dlp', '--dump-json', youtube_url],\n",
        "    capture_output=True,\n",
        "    text=True\n",
        ")\n",
        "try:\n",
        "    titellama = json.loads(vidtitel.stdout)['title']\n",
        "    titel = titellama.lower().replace(\"-\",\"\").replace(\"  \",\" \").replace(\" \",\"-\").replace(\"(\",\"\").replace(\")\",\"\")\n",
        "    titelbaru = f\"{titel}.{audio_format}\"\n",
        "    !mv aud_out.{audio_format} {titelbaru}\n",
        "    print(cyellow+\"[renamer] \"+creset+\"done\")\n",
        "except json.JSONDecodeError:\n",
        "        print(cred+\"An Error Occurred\"+creset)"
      ],
      "metadata": {
        "cellView": "form",
        "id": "obYtSTw6Tdy3"
      },
      "execution_count": null,
      "outputs": []
    },
    {
      "cell_type": "code",
      "execution_count": null,
      "metadata": {
        "id": "byhZHbArBMxG",
        "cellView": "form"
      },
      "outputs": [],
      "source": [
        "#@title Uploading to [Pixeldrain](https://pixeldrain.com/)\n",
        "\n",
        "upload = subprocess.run(\n",
        "    ['curl', '-T', titelbaru, '-u', ':'+pixeldrain_apikey, 'https://pixeldrain.com/api/file/'],\n",
        "    capture_output=True,\n",
        "    text=True\n",
        ")\n",
        "#====================Debug============\n",
        "#print(\"Output from curl:\", upload.stdout)\n",
        "#print(\"Error from curl:\", upload.stderr)\n",
        "#====================Making Path============\n",
        "try:\n",
        "    file_result_id = json.loads(upload.stdout)['id']\n",
        "    print(cyellow+\"[uploader] \"+creset+\"Upload done\")\n",
        "    print(\"file link: https://pixeldrain.com/u/\" + file_result_id)\n",
        "#    print(\"ID file:\", file_result_id)\n",
        "except json.JSONDecodeError:\n",
        "        print(cred+\"An Error Occurred\"+creset)"
      ]
    }
  ],
  "metadata": {
    "colab": {
      "provenance": [],
      "include_colab_link": true
    },
    "kernelspec": {
      "display_name": "Python 3",
      "name": "python3"
    }
  },
  "nbformat": 4,
  "nbformat_minor": 0
}